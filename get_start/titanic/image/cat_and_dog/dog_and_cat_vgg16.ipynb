{
 "cells": [
  {
   "cell_type": "code",
   "execution_count": 2,
   "metadata": {},
   "outputs": [
    {
     "name": "stderr",
     "output_type": "stream",
     "text": [
      "Using TensorFlow backend.\n"
     ]
    }
   ],
   "source": [
    "from keras.applications import VGG16"
   ]
  },
  {
   "cell_type": "code",
   "execution_count": 3,
   "metadata": {},
   "outputs": [
    {
     "name": "stdout",
     "output_type": "stream",
     "text": [
      "WARNING:tensorflow:From d:\\ProgramData\\Anaconda3\\lib\\site-packages\\tensorflow\\python\\framework\\op_def_library.py:263: colocate_with (from tensorflow.python.framework.ops) is deprecated and will be removed in a future version.\n",
      "Instructions for updating:\n",
      "Colocations handled automatically by placer.\n"
     ]
    }
   ],
   "source": [
    "conv_base = VGG16(weights='imagenet',\n",
    "                 include_top=False,\n",
    "                 input_shape=(150,150,3))"
   ]
  },
  {
   "cell_type": "code",
   "execution_count": 4,
   "metadata": {},
   "outputs": [
    {
     "name": "stdout",
     "output_type": "stream",
     "text": [
      "_________________________________________________________________\n",
      "Layer (type)                 Output Shape              Param #   \n",
      "=================================================================\n",
      "input_1 (InputLayer)         (None, 150, 150, 3)       0         \n",
      "_________________________________________________________________\n",
      "block1_conv1 (Conv2D)        (None, 150, 150, 64)      1792      \n",
      "_________________________________________________________________\n",
      "block1_conv2 (Conv2D)        (None, 150, 150, 64)      36928     \n",
      "_________________________________________________________________\n",
      "block1_pool (MaxPooling2D)   (None, 75, 75, 64)        0         \n",
      "_________________________________________________________________\n",
      "block2_conv1 (Conv2D)        (None, 75, 75, 128)       73856     \n",
      "_________________________________________________________________\n",
      "block2_conv2 (Conv2D)        (None, 75, 75, 128)       147584    \n",
      "_________________________________________________________________\n",
      "block2_pool (MaxPooling2D)   (None, 37, 37, 128)       0         \n",
      "_________________________________________________________________\n",
      "block3_conv1 (Conv2D)        (None, 37, 37, 256)       295168    \n",
      "_________________________________________________________________\n",
      "block3_conv2 (Conv2D)        (None, 37, 37, 256)       590080    \n",
      "_________________________________________________________________\n",
      "block3_conv3 (Conv2D)        (None, 37, 37, 256)       590080    \n",
      "_________________________________________________________________\n",
      "block3_pool (MaxPooling2D)   (None, 18, 18, 256)       0         \n",
      "_________________________________________________________________\n",
      "block4_conv1 (Conv2D)        (None, 18, 18, 512)       1180160   \n",
      "_________________________________________________________________\n",
      "block4_conv2 (Conv2D)        (None, 18, 18, 512)       2359808   \n",
      "_________________________________________________________________\n",
      "block4_conv3 (Conv2D)        (None, 18, 18, 512)       2359808   \n",
      "_________________________________________________________________\n",
      "block4_pool (MaxPooling2D)   (None, 9, 9, 512)         0         \n",
      "_________________________________________________________________\n",
      "block5_conv1 (Conv2D)        (None, 9, 9, 512)         2359808   \n",
      "_________________________________________________________________\n",
      "block5_conv2 (Conv2D)        (None, 9, 9, 512)         2359808   \n",
      "_________________________________________________________________\n",
      "block5_conv3 (Conv2D)        (None, 9, 9, 512)         2359808   \n",
      "_________________________________________________________________\n",
      "block5_pool (MaxPooling2D)   (None, 4, 4, 512)         0         \n",
      "=================================================================\n",
      "Total params: 14,714,688\n",
      "Trainable params: 14,714,688\n",
      "Non-trainable params: 0\n",
      "_________________________________________________________________\n"
     ]
    }
   ],
   "source": [
    "conv_base.summary()"
   ]
  },
  {
   "cell_type": "code",
   "execution_count": 5,
   "metadata": {},
   "outputs": [],
   "source": [
    "import os \n",
    "import numpy as np\n",
    "from keras.preprocessing.image import ImageDataGenerator\n",
    "\n",
    "base_dir = 'D:/data/small'\n",
    "\n",
    "train_dir = os.path.join(base_dir, 'train')\n",
    "validation_dir = os.path.join(base_dir, 'validation')\n",
    "test_dir = os.path.join(base_dir, 'test')\n",
    "\n",
    "datagen = ImageDataGenerator(rescale=1./255)\n",
    "batch_size =20\n",
    "\n",
    "def extract_features(directory, sample_count):\n",
    "    '''\n",
    "    use pre-trained network to obtain features from images\n",
    "    features can be passed into classifier\n",
    "    '''\n",
    "    \n",
    "    features = np.zeros(shape=(sample_count, 4, 4, 512))\n",
    "    labels = np.zeros(shape=(sample_count))\n",
    "    generator = datagen.flow_from_directory(\n",
    "        directory,\n",
    "        target_size=(150, 150),\n",
    "        batch_size=batch_size,\n",
    "        class_mode='binary')\n",
    "    i = 0\n",
    "        \n",
    "    for inputs_batch, labels_batch in generator:\n",
    "\n",
    "        features_batch = conv_base.predict(inputs_batch)\n",
    "        features[i * batch_size : (i + 1) * batch_size] = features_batch\n",
    "        labels[i * batch_size : (i + 1) * batch_size] = labels_batch\n",
    "        i += 1\n",
    "        if i * batch_size >= sample_count:\n",
    "            break\n",
    "            \n",
    "    return features, labels\n",
    "    "
   ]
  },
  {
   "cell_type": "code",
   "execution_count": 6,
   "metadata": {},
   "outputs": [
    {
     "name": "stdout",
     "output_type": "stream",
     "text": [
      "Found 2000 images belonging to 2 classes.\n",
      "Found 1000 images belonging to 2 classes.\n",
      "Found 1000 images belonging to 2 classes.\n"
     ]
    }
   ],
   "source": [
    "train_features, train_labels = extract_features(train_dir, 2000)\n",
    "validation_features, validation_labels = extract_features(validation_dir, 1000)\n",
    "test_features, test_labels = extract_features(test_dir, 1000)"
   ]
  },
  {
   "cell_type": "code",
   "execution_count": 8,
   "metadata": {},
   "outputs": [],
   "source": [
    "train_features = np.reshape(train_features, (2000, 4 * 4 * 512))\n",
    "validation_features = np.reshape(validation_features, (1000, 4 * 4 * 512))\n",
    "test_features = np.reshape(test_features, (1000, 4 * 4 * 512))"
   ]
  },
  {
   "cell_type": "code",
   "execution_count": 9,
   "metadata": {},
   "outputs": [
    {
     "name": "stdout",
     "output_type": "stream",
     "text": [
      "WARNING:tensorflow:From d:\\ProgramData\\Anaconda3\\lib\\site-packages\\keras\\backend\\tensorflow_backend.py:3445: calling dropout (from tensorflow.python.ops.nn_ops) with keep_prob is deprecated and will be removed in a future version.\n",
      "Instructions for updating:\n",
      "Please use `rate` instead of `keep_prob`. Rate should be set to `rate = 1 - keep_prob`.\n",
      "WARNING:tensorflow:From d:\\ProgramData\\Anaconda3\\lib\\site-packages\\tensorflow\\python\\ops\\math_ops.py:3066: to_int32 (from tensorflow.python.ops.math_ops) is deprecated and will be removed in a future version.\n",
      "Instructions for updating:\n",
      "Use tf.cast instead.\n",
      "Train on 2000 samples, validate on 1000 samples\n",
      "Epoch 1/30\n",
      "2000/2000 [==============================] - 9s 5ms/step - loss: 0.5886 - acc: 0.6775 - val_loss: 0.4429 - val_acc: 0.8380\n",
      "Epoch 2/30\n",
      "2000/2000 [==============================] - 6s 3ms/step - loss: 0.4256 - acc: 0.8115 - val_loss: 0.3634 - val_acc: 0.8680\n",
      "Epoch 3/30\n",
      "2000/2000 [==============================] - 6s 3ms/step - loss: 0.3632 - acc: 0.8430 - val_loss: 0.3312 - val_acc: 0.8630\n",
      "Epoch 4/30\n",
      "2000/2000 [==============================] - 6s 3ms/step - loss: 0.3163 - acc: 0.8670 - val_loss: 0.2999 - val_acc: 0.8860\n",
      "Epoch 5/30\n",
      "2000/2000 [==============================] - 6s 3ms/step - loss: 0.2731 - acc: 0.8920 - val_loss: 0.2802 - val_acc: 0.8890\n",
      "Epoch 6/30\n",
      "2000/2000 [==============================] - 6s 3ms/step - loss: 0.2636 - acc: 0.9050 - val_loss: 0.2702 - val_acc: 0.8930\n",
      "Epoch 7/30\n",
      "2000/2000 [==============================] - 5s 3ms/step - loss: 0.2444 - acc: 0.9040 - val_loss: 0.2626 - val_acc: 0.8990\n",
      "Epoch 8/30\n",
      "2000/2000 [==============================] - 5s 3ms/step - loss: 0.2215 - acc: 0.9175 - val_loss: 0.2556 - val_acc: 0.9030\n",
      "Epoch 9/30\n",
      "2000/2000 [==============================] - 5s 3ms/step - loss: 0.2153 - acc: 0.9175 - val_loss: 0.2536 - val_acc: 0.8950\n",
      "Epoch 10/30\n",
      "2000/2000 [==============================] - 6s 3ms/step - loss: 0.2011 - acc: 0.9220 - val_loss: 0.2468 - val_acc: 0.9030\n",
      "Epoch 11/30\n",
      "2000/2000 [==============================] - 6s 3ms/step - loss: 0.1906 - acc: 0.9340 - val_loss: 0.2474 - val_acc: 0.9010\n",
      "Epoch 12/30\n",
      "2000/2000 [==============================] - 6s 3ms/step - loss: 0.1824 - acc: 0.9345 - val_loss: 0.2417 - val_acc: 0.9060\n",
      "Epoch 13/30\n",
      "2000/2000 [==============================] - 6s 3ms/step - loss: 0.1765 - acc: 0.9340 - val_loss: 0.2430 - val_acc: 0.9050\n",
      "Epoch 14/30\n",
      "2000/2000 [==============================] - 6s 3ms/step - loss: 0.1735 - acc: 0.9375 - val_loss: 0.2422 - val_acc: 0.9050\n",
      "Epoch 15/30\n",
      "2000/2000 [==============================] - 6s 3ms/step - loss: 0.1555 - acc: 0.9435 - val_loss: 0.2404 - val_acc: 0.9050\n",
      "Epoch 16/30\n",
      "2000/2000 [==============================] - 6s 3ms/step - loss: 0.1492 - acc: 0.9465 - val_loss: 0.2355 - val_acc: 0.9100\n",
      "Epoch 17/30\n",
      "2000/2000 [==============================] - 6s 3ms/step - loss: 0.1475 - acc: 0.9455 - val_loss: 0.2477 - val_acc: 0.8980\n",
      "Epoch 18/30\n",
      "2000/2000 [==============================] - 6s 3ms/step - loss: 0.1407 - acc: 0.9540 - val_loss: 0.2424 - val_acc: 0.9050\n",
      "Epoch 19/30\n",
      "2000/2000 [==============================] - 6s 3ms/step - loss: 0.1316 - acc: 0.9555 - val_loss: 0.2367 - val_acc: 0.9060\n",
      "Epoch 20/30\n",
      "2000/2000 [==============================] - 5s 3ms/step - loss: 0.1295 - acc: 0.9525 - val_loss: 0.2345 - val_acc: 0.9050\n",
      "Epoch 21/30\n",
      "2000/2000 [==============================] - 5s 2ms/step - loss: 0.1169 - acc: 0.9660 - val_loss: 0.2362 - val_acc: 0.9060\n",
      "Epoch 22/30\n",
      "2000/2000 [==============================] - 5s 2ms/step - loss: 0.1213 - acc: 0.9620 - val_loss: 0.2357 - val_acc: 0.9030\n",
      "Epoch 23/30\n",
      "2000/2000 [==============================] - 5s 2ms/step - loss: 0.1108 - acc: 0.9650 - val_loss: 0.2446 - val_acc: 0.9060\n",
      "Epoch 24/30\n",
      "2000/2000 [==============================] - 5s 2ms/step - loss: 0.1080 - acc: 0.9635 - val_loss: 0.2417 - val_acc: 0.9100\n",
      "Epoch 25/30\n",
      "2000/2000 [==============================] - 5s 2ms/step - loss: 0.1104 - acc: 0.9645 - val_loss: 0.2335 - val_acc: 0.9050\n",
      "Epoch 26/30\n",
      "2000/2000 [==============================] - 5s 3ms/step - loss: 0.0993 - acc: 0.9690 - val_loss: 0.2344 - val_acc: 0.9060\n",
      "Epoch 27/30\n",
      "2000/2000 [==============================] - 6s 3ms/step - loss: 0.0960 - acc: 0.9720 - val_loss: 0.2379 - val_acc: 0.9060\n",
      "Epoch 28/30\n",
      "2000/2000 [==============================] - 6s 3ms/step - loss: 0.0970 - acc: 0.9730 - val_loss: 0.2422 - val_acc: 0.9090\n",
      "Epoch 29/30\n",
      "2000/2000 [==============================] - 6s 3ms/step - loss: 0.0910 - acc: 0.9700 - val_loss: 0.2351 - val_acc: 0.9030\n",
      "Epoch 30/30\n",
      "2000/2000 [==============================] - 6s 3ms/step - loss: 0.0842 - acc: 0.9775 - val_loss: 0.2408 - val_acc: 0.9050\n"
     ]
    }
   ],
   "source": [
    "from keras import models\n",
    "from keras import layers\n",
    "from keras import optimizers\n",
    "\n",
    "model = models.Sequential()\n",
    "model.add(layers.Dense(256, activation='relu', input_dim=4 * 4 * 512))\n",
    "model.add(layers.Dropout(0.5))\n",
    "model.add(layers.Dense(1, activation='sigmoid'))\n",
    "model.compile(optimizer=optimizers.RMSprop(lr=2e-5),\n",
    "              loss='binary_crossentropy',\n",
    "              metrics=['acc'])\n",
    "\n",
    "history = model.fit(train_features, train_labels,\n",
    "                    epochs=30,\n",
    "                    batch_size=20,\n",
    "                    validation_data=(validation_features, validation_labels))"
   ]
  },
  {
   "cell_type": "code",
   "execution_count": 12,
   "metadata": {},
   "outputs": [
    {
     "data": {
      "image/png": "[encoded data removed]",
      "text/plain": [
       "<Figure size 432x288 with 1 Axes>"
      ]
     },
     "metadata": {
      "needs_background": "light"
     },
     "output_type": "display_data"
    },
    {
     "data": {
      "image/png": "[encoded data removed]",
      "text/plain": [
       "<Figure size 432x288 with 1 Axes>"
      ]
     },
     "metadata": {
      "needs_background": "light"
     },
     "output_type": "display_data"
    }
   ],
   "source": [
    "import matplotlib.pyplot as plt\n",
    "\n",
    "acc = history.history['acc']\n",
    "val_acc = history.history['val_acc']\n",
    "loss = history.history['loss']\n",
    "val_loss=history.history['val_loss']\n",
    "\n",
    "epochs = range(1, len(acc) + 1)\n",
    "\n",
    "plt.plot(epochs, acc, 'bo', label='Training acc')\n",
    "plt.plot(epochs, val_acc, 'b', label='Training acc')\n",
    "plt.title('Training and validation accuracy')\n",
    "plt.legend()\n",
    "\n",
    "plt.figure()\n",
    "\n",
    "plt.plot(epochs, loss, 'bo', label='Training loss')\n",
    "plt.plot(epochs, val_loss, 'b', label='Validation loss')\n",
    "plt.title('Training and validation loss')\n",
    "plt.legend()\n",
    "\n",
    "plt.show()"
   ]
  },
  {
   "cell_type": "code",
   "execution_count": 16,
   "metadata": {},
   "outputs": [
    {
     "name": "stdout",
     "output_type": "stream",
     "text": [
      "_________________________________________________________________\n",
      "Layer (type)                 Output Shape              Param #   \n",
      "=================================================================\n",
      "vgg16 (Model)                (None, 4, 4, 512)         14714688  \n",
      "_________________________________________________________________\n",
      "flatten_1 (Flatten)          (None, 8192)              0         \n",
      "_________________________________________________________________\n",
      "dense_3 (Dense)              (None, 256)               2097408   \n",
      "_________________________________________________________________\n",
      "dense_4 (Dense)              (None, 1)                 257       \n",
      "=================================================================\n",
      "Total params: 16,812,353\n",
      "Trainable params: 16,812,353\n",
      "Non-trainable params: 0\n",
      "_________________________________________________________________\n"
     ]
    }
   ],
   "source": [
    "from keras import models\n",
    "from keras import layers\n",
    "\n",
    "model = models.Sequential()\n",
    "\n",
    "model.add(conv_base)\n",
    "model.add(layers.Flatten())\n",
    "model.add(layers.Dense(256, activation='relu'))\n",
    "model.add(layers.Dense(1, activation='sigmoid'))\n",
    "model.summary()"
   ]
  },
  {
   "cell_type": "code",
   "execution_count": 17,
   "metadata": {},
   "outputs": [],
   "source": [
    "conv_base.trainable = False"
   ]
  },
  {
   "cell_type": "code",
   "execution_count": 18,
   "metadata": {},
   "outputs": [],
   "source": [
    "\n",
    "from keras.preprocessing.image import ImageDataGenerator\n",
    "from keras import optimizers\n",
    "\n",
    "train_datagen = ImageDataGenerator(\n",
    "    rescale = 1./255,\n",
    "    rotation_range=40,\n",
    "    width_shift_range=0.2,\n",
    "    height_shift_range=0.2,\n",
    "    shear_range=0.2,\n",
    "    zoom_range=0.2,\n",
    "    horizontal_flip=True,\n",
    "    fill_mode='nearest'\n",
    ")"
   ]
  },
  {
   "cell_type": "code",
   "execution_count": 19,
   "metadata": {},
   "outputs": [],
   "source": [
    "test_datagen=ImageDataGenerator(rescale=1./255)"
   ]
  },
  {
   "cell_type": "code",
   "execution_count": 20,
   "metadata": {},
   "outputs": [
    {
     "name": "stdout",
     "output_type": "stream",
     "text": [
      "Found 2000 images belonging to 2 classes.\n"
     ]
    }
   ],
   "source": [
    "train_generator=train_datagen.flow_from_directory(\n",
    "    train_dir,\n",
    "    target_size=(150,150),\n",
    "    batch_size=20,\n",
    "    class_mode='binary'\n",
    "    \n",
    ")"
   ]
  },
  {
   "cell_type": "code",
   "execution_count": 21,
   "metadata": {},
   "outputs": [
    {
     "name": "stdout",
     "output_type": "stream",
     "text": [
      "Found 1000 images belonging to 2 classes.\n"
     ]
    }
   ],
   "source": [
    "validation_generator = test_datagen.flow_from_directory(\n",
    "    validation_dir,\n",
    "    target_size=(150,150),\n",
    "    batch_size=20,\n",
    "    class_mode='binary'\n",
    ")"
   ]
  },
  {
   "cell_type": "code",
   "execution_count": 25,
   "metadata": {},
   "outputs": [],
   "source": [
    "model.compile(loss='binary_crossentropy',\n",
    "            optimizer=optimizers.RMSprop(lr=2e-5),\n",
    "             metrics=['acc']\n",
    "            )"
   ]
  },
  {
   "cell_type": "code",
   "execution_count": 26,
   "metadata": {},
   "outputs": [
    {
     "name": "stdout",
     "output_type": "stream",
     "text": [
      "Epoch 1/30\n",
      "100/100 [==============================] - 629s 6s/step - loss: 0.5936 - acc: 0.6765 - val_loss: 0.4601 - val_acc: 0.8180\n",
      "Epoch 2/30\n",
      "100/100 [==============================] - 636s 6s/step - loss: 0.4819 - acc: 0.7885 - val_loss: 0.3878 - val_acc: 0.8400\n",
      "Epoch 3/30\n",
      "100/100 [==============================] - 636s 6s/step - loss: 0.4466 - acc: 0.7920 - val_loss: 0.3427 - val_acc: 0.8630\n",
      "Epoch 4/30\n",
      "100/100 [==============================] - 647s 6s/step - loss: 0.4135 - acc: 0.8160 - val_loss: 0.3130 - val_acc: 0.8740\n",
      "Epoch 5/30\n",
      "100/100 [==============================] - 619s 6s/step - loss: 0.3899 - acc: 0.8300 - val_loss: 0.3011 - val_acc: 0.8790\n",
      "Epoch 6/30\n",
      "100/100 [==============================] - 627s 6s/step - loss: 0.3764 - acc: 0.8350 - val_loss: 0.2847 - val_acc: 0.8860\n",
      "Epoch 7/30\n",
      "100/100 [==============================] - 643s 6s/step - loss: 0.3465 - acc: 0.8485 - val_loss: 0.2756 - val_acc: 0.8910\n",
      "Epoch 8/30\n",
      "100/100 [==============================] - 638s 6s/step - loss: 0.3467 - acc: 0.8590 - val_loss: 0.2726 - val_acc: 0.8930\n",
      "Epoch 9/30\n",
      "100/100 [==============================] - 637s 6s/step - loss: 0.3453 - acc: 0.8395 - val_loss: 0.2643 - val_acc: 0.8950\n",
      "Epoch 10/30\n",
      "100/100 [==============================] - 645s 6s/step - loss: 0.3420 - acc: 0.8455 - val_loss: 0.2587 - val_acc: 0.8980\n",
      "Epoch 11/30\n",
      "100/100 [==============================] - 638s 6s/step - loss: 0.3341 - acc: 0.8470 - val_loss: 0.2605 - val_acc: 0.8920\n",
      "Epoch 12/30\n",
      "100/100 [==============================] - 636s 6s/step - loss: 0.3327 - acc: 0.8490 - val_loss: 0.2535 - val_acc: 0.9000\n",
      "Epoch 13/30\n",
      "100/100 [==============================] - 641s 6s/step - loss: 0.3137 - acc: 0.8600 - val_loss: 0.2511 - val_acc: 0.9010\n",
      "Epoch 14/30\n",
      "100/100 [==============================] - 645s 6s/step - loss: 0.3170 - acc: 0.8680 - val_loss: 0.2495 - val_acc: 0.9030\n",
      "Epoch 15/30\n",
      "100/100 [==============================] - 642s 6s/step - loss: 0.3160 - acc: 0.8580 - val_loss: 0.2489 - val_acc: 0.9000\n",
      "Epoch 16/30\n",
      "100/100 [==============================] - 642s 6s/step - loss: 0.3238 - acc: 0.8560 - val_loss: 0.2446 - val_acc: 0.9000\n",
      "Epoch 17/30\n",
      "100/100 [==============================] - 641s 6s/step - loss: 0.3061 - acc: 0.8670 - val_loss: 0.2437 - val_acc: 0.9040\n",
      "Epoch 18/30\n",
      "100/100 [==============================] - 671s 7s/step - loss: 0.3238 - acc: 0.8645 - val_loss: 0.2466 - val_acc: 0.8990\n",
      "Epoch 19/30\n",
      "100/100 [==============================] - 645s 6s/step - loss: 0.3149 - acc: 0.8610 - val_loss: 0.2436 - val_acc: 0.8960\n",
      "Epoch 20/30\n",
      "100/100 [==============================] - 668s 7s/step - loss: 0.3051 - acc: 0.8695 - val_loss: 0.2428 - val_acc: 0.8980\n",
      "Epoch 21/30\n",
      "100/100 [==============================] - 676s 7s/step - loss: 0.3007 - acc: 0.8695 - val_loss: 0.2507 - val_acc: 0.8930\n",
      "Epoch 22/30\n",
      "100/100 [==============================] - 679s 7s/step - loss: 0.2931 - acc: 0.8750 - val_loss: 0.2424 - val_acc: 0.9020\n",
      "Epoch 23/30\n",
      "100/100 [==============================] - 646s 6s/step - loss: 0.2928 - acc: 0.8705 - val_loss: 0.2446 - val_acc: 0.9010\n",
      "Epoch 24/30\n",
      "100/100 [==============================] - 668s 7s/step - loss: 0.2949 - acc: 0.8725 - val_loss: 0.2427 - val_acc: 0.8990\n",
      "Epoch 25/30\n",
      "100/100 [==============================] - 648s 6s/step - loss: 0.2969 - acc: 0.8705 - val_loss: 0.2457 - val_acc: 0.8940\n",
      "Epoch 26/30\n",
      "100/100 [==============================] - 637s 6s/step - loss: 0.2934 - acc: 0.8705 - val_loss: 0.2400 - val_acc: 0.9020\n",
      "Epoch 27/30\n",
      "100/100 [==============================] - 636s 6s/step - loss: 0.2879 - acc: 0.8725 - val_loss: 0.2381 - val_acc: 0.9010\n",
      "Epoch 28/30\n",
      "100/100 [==============================] - 655s 7s/step - loss: 0.2762 - acc: 0.8775 - val_loss: 0.2360 - val_acc: 0.9070\n",
      "Epoch 29/30\n",
      "100/100 [==============================] - 649s 6s/step - loss: 0.2825 - acc: 0.8785 - val_loss: 0.2375 - val_acc: 0.9010\n",
      "Epoch 30/30\n",
      "100/100 [==============================] - 644s 6s/step - loss: 0.2745 - acc: 0.8860 - val_loss: 0.2389 - val_acc: 0.9060\n"
     ]
    }
   ],
   "source": [
    "history = model.fit_generator(\n",
    "    train_generator,\n",
    "    steps_per_epoch=100,\n",
    "    epochs=30,\n",
    "    validation_data=validation_generator,\n",
    "    validation_steps=50\n",
    ")"
   ]
  },
  {
   "cell_type": "code",
   "execution_count": 27,
   "metadata": {},
   "outputs": [
    {
     "data": {
      "image/png": "[encoded data removed]",
      "text/plain": [
       "<Figure size 432x288 with 1 Axes>"
      ]
     },
     "metadata": {
      "needs_background": "light"
     },
     "output_type": "display_data"
    },
    {
     "data": {
      "image/png": "[encoded data removed]",
      "text/plain": [
       "<Figure size 432x288 with 1 Axes>"
      ]
     },
     "metadata": {
      "needs_background": "light"
     },
     "output_type": "display_data"
    }
   ],
   "source": [
    "acc = history.history['acc']\n",
    "val_acc = history.history['val_acc']\n",
    "loss = history.history['loss']\n",
    "val_loss=history.history['val_loss']\n",
    "\n",
    "epochs = range(1, len(acc) + 1)\n",
    "\n",
    "plt.plot(epochs, acc, 'bo', label='Training acc')\n",
    "plt.plot(epochs, val_acc, 'b', label='Training acc')\n",
    "plt.title('Training and validation accuracy')\n",
    "plt.legend()\n",
    "\n",
    "plt.figure()\n",
    "\n",
    "plt.plot(epochs, loss, 'bo', label='Training loss')\n",
    "plt.plot(epochs, val_loss, 'b', label='Validation loss')\n",
    "plt.title('Training and validation loss')\n",
    "plt.legend()\n",
    "\n",
    "plt.show()"
   ]
  },
  {
   "cell_type": "code",
   "execution_count": null,
   "metadata": {},
   "outputs": [],
   "source": []
  }
 ],
 "metadata": {
  "kernelspec": {
   "display_name": "Python 3",
   "language": "python",
   "name": "python3"
  },
  "language_info": {
   "codemirror_mode": {
    "name": "ipython",
    "version": 3
   },
   "file_extension": ".py",
   "mimetype": "text/x-python",
   "name": "python",
   "nbconvert_exporter": "python",
   "pygments_lexer": "ipython3",
   "version": "3.7.0"
  }
 },
 "nbformat": 4,
 "nbformat_minor": 2
}
